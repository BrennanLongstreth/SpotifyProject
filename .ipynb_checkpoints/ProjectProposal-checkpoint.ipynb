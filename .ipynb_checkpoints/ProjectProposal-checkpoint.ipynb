{
 "cells": [
  {
   "cell_type": "markdown",
   "metadata": {},
   "source": [
    "# My Spotify Listening History\n",
    "## Introduction\n",
    "### Domain Introduction\n",
    "My domain is my listening history from spotify. I have listening times and song titles as well as the artist and the time listened.\n",
    "\n",
    "I'm interested in my listening tenancies because I feel like I spend a lot of time listening to music during the day but I want to know if my listening habits change based on day of the week and whether I'm in school or not.\n",
    "### Hypothesis\n",
    "I honestly think that my listening increases during school because I listen to music while I work. I also have spent a lot of time playing music on weekends in the room over our sound system. When I figure out how to use the spotify search API I'm interested to see if the genre of my music changes based on day of the week. I feel like I listen to a lot more chill music on weekends because it's more than just me listening.  \n",
    "\n",
    "I don't think this data will really impact my listening but it will be interesting to know what genres I listen to depending on the time of year and watch myself go through phases.   \n",
    "\n",
    "Spotify might be interested in my results but they likely already know way more than I do. "
   ]
  },
  {
   "cell_type": "markdown",
   "metadata": {},
   "source": [
    "## Data Analysis\n",
    "### Dataset Description\n",
    "I have two tables that add on to eachother (one is 6 months, the other is the previous 3 months). I also plan to use spotify's search API for genre data when I learn how to use that. The data I have is collected every time I start a song. \n",
    "\n",
    "The data is in JSON files. The formatting requires normalization after the data is read in with read_json().\n",
    "\n",
    "Each instance contains an end time, the track name, the artist and the time played. When I get access to the search API, I plan to add a genre attribute to these. "
   ]
  },
  {
   "cell_type": "markdown",
   "metadata": {},
   "source": [
    "### Data Preparation\n",
    "I needed to go through the files by hand to remove all of the characters with accents and some non-alphanumerical characters. Looking through 10,000 lines of data to find a character that causes the file to not load into a dataframe was quite obnoxious. There were no missing values only some slight misspellings caused by the edits I was required to make.\n",
    "\n",
    "My JSON files will merge by appending the second one onto the first one there is no overlap there. The data from the API will be added as an extra attribute on the outside merging on index. \n",
    "\n",
    "The hardest part of the data preparation aside from the time consuming process of removing special characters will probably be adding all of the API data because I might need to make hundreds of API requests depeding on how the request system is set up. "
   ]
  },
  {
   "cell_type": "markdown",
   "metadata": {},
   "source": [
    "### Exploratory Data Analysis\n",
    "The majority of my aggregation will be focused on the mean of listening data from a day of the week or month of the year. \n",
    "\n",
    "I will be using multiple bar graphs, a histogram and possibly a line graph. The bar graphs will be based around days of the week, months of the year, and genres, the histogram will be used to represent distribution of song lengths. The line graph will relate daily listening over the entire period that data was recorded.\n",
    "\n",
    "I predict that over the summer my top 3 listened songs per week stayed the same from the end of may to the end of August. I also predict that my average listening overall is greater than 4 hours a day. (I would predict greater than 4 hours but I'm not sure if offline listening counts into this data) "
   ]
  },
  {
   "cell_type": "markdown",
   "metadata": {},
   "source": [
    "### Classification\n",
    "I may have enough data to predict a genre of music based on the day of the week and the month of the year or even the time of day to see which one is more accurate. I can also use previous daily listening data to predict how long I will listen to music on a given day based on a weighted average of the week and previous days of the same weekday. (It would be interesting to generate a playlist with a predicted length based on the genre predicted by my data.\n",
    "\n",
    "I think the predictions about genre will be a bit off because my listening changes a lot week to week and with what I'm doing.\n",
    "\n",
    "I don't think there will really be any challeneges with classification outside of my data being pretty spread out so confidence intervals will be wide."
   ]
  }
 ],
 "metadata": {
  "kernelspec": {
   "display_name": "Python 3",
   "language": "python",
   "name": "python3"
  },
  "language_info": {
   "codemirror_mode": {
    "name": "ipython",
    "version": 3
   },
   "file_extension": ".py",
   "mimetype": "text/x-python",
   "name": "python",
   "nbconvert_exporter": "python",
   "pygments_lexer": "ipython3",
   "version": "3.8.3"
  }
 },
 "nbformat": 4,
 "nbformat_minor": 4
}